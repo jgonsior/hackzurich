{
 "cells": [
  {
   "cell_type": "markdown",
   "metadata": {},
   "source": [
    "# Migros API to extract Food Data\n",
    "\n",
    "This is for extracting the data from the Migros API to get food/logistic data. There will be several categories of this speicified later on."
   ]
  },
  {
   "cell_type": "code",
   "execution_count": null,
   "metadata": {},
   "outputs": [],
   "source": [
    "hackzurich2020\n",
    "uhSyJ08KexKn4ZFS"
   ]
  },
  {
   "cell_type": "code",
   "execution_count": 2,
   "metadata": {},
   "outputs": [],
   "source": [
    "import requests"
   ]
  },
  {
   "cell_type": "code",
   "execution_count": 6,
   "metadata": {},
   "outputs": [],
   "source": [
    "#Products API, with verbosity = id and limit=2000, then go through the page ids of all products\n",
    "\n",
    "offset = 0\n",
    "url = \"https://hackzurich-api.migros.ch/products?limit=2000&offset={}&facet_sort_order=asc&sort=score&order=asc&region=national&view=browse&verbosity=id&custom_image=false\".format(offset)\n",
    "response = requests.get(url, auth=('hackzurich2020', 'uhSyJ08KexKn4ZFS'))\n",
    "response_json = response.json()\n",
    "total = response_json['total_hits']\n",
    "for product_id in response_json['ids']:\n",
    "    with open('migros_productids.csv','a') as fd:\n",
    "        fd.write(product_id)\n"
   ]
  },
  {
   "cell_type": "code",
   "execution_count": null,
   "metadata": {},
   "outputs": [],
   "source": []
  },
  {
   "cell_type": "code",
   "execution_count": null,
   "metadata": {},
   "outputs": [],
   "source": []
  },
  {
   "cell_type": "code",
   "execution_count": null,
   "metadata": {},
   "outputs": [],
   "source": []
  }
 ],
 "metadata": {
  "kernelspec": {
   "display_name": "Python 3",
   "language": "python",
   "name": "python3"
  },
  "language_info": {
   "codemirror_mode": {
    "name": "ipython",
    "version": 3
   },
   "file_extension": ".py",
   "mimetype": "text/x-python",
   "name": "python",
   "nbconvert_exporter": "python",
   "pygments_lexer": "ipython3",
   "version": "3.7.3"
  }
 },
 "nbformat": 4,
 "nbformat_minor": 2
}

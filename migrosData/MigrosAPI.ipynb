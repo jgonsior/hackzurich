{
 "cells": [
  {
   "cell_type": "markdown",
   "metadata": {},
   "source": [
    "# Migros API to extract Food Data\n",
    "\n",
    "This is for extracting the data from the Migros API to get food/logistic data. There will be several categories of this speicified later on."
   ]
  },
  {
   "cell_type": "code",
   "execution_count": null,
   "metadata": {},
   "outputs": [],
   "source": [
    "hackzurich2020\n",
    "uhSyJ08KexKn4ZFS"
   ]
  },
  {
   "cell_type": "code",
   "execution_count": 7,
   "metadata": {},
   "outputs": [],
   "source": [
    "import requests\n",
    "import json"
   ]
  },
  {
   "cell_type": "code",
   "execution_count": null,
   "metadata": {},
   "outputs": [],
   "source": [
    "#Products API, with verbosity = id and limit=2000, then go through the page ids of all products\n",
    "\n",
    "offset = 0\n",
    "url = \"https://hackzurich-api.migros.ch/hack/recipe/recipes_de/_search\"\n",
    "response = requests.get(url, auth=('hackzurich2020', 'uhSyJ08KexKn4ZFS'))\n",
    "response_json = response.json()\n",
    "with open('migros_recipes.json', 'w') as fp:\n",
    "    json.dump(response_json, fp)\n"
   ]
  },
  {
   "cell_type": "code",
   "execution_count": null,
   "metadata": {},
   "outputs": [],
   "source": []
  },
  {
   "cell_type": "code",
   "execution_count": null,
   "metadata": {},
   "outputs": [],
   "source": []
  },
  {
   "cell_type": "code",
   "execution_count": null,
   "metadata": {},
   "outputs": [],
   "source": []
  }
 ],
 "metadata": {
  "kernelspec": {
   "display_name": "Python 3",
   "language": "python",
   "name": "python3"
  },
  "language_info": {
   "codemirror_mode": {
    "name": "ipython",
    "version": 3
   },
   "file_extension": ".py",
   "mimetype": "text/x-python",
   "name": "python",
   "nbconvert_exporter": "python",
   "pygments_lexer": "ipython3",
   "version": "3.7.3"
  }
 },
 "nbformat": 4,
 "nbformat_minor": 2
}

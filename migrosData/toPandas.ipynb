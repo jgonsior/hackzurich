{
 "cells": [
  {
   "cell_type": "code",
   "execution_count": 16,
   "metadata": {},
   "outputs": [],
   "source": [
    "import pandas as pd\n",
    "import json\n",
    "\n",
    "meat_df = pd.read_json(r'new_meat.json')\n",
    "vegan_df = pd.read_json (r'vegan.json')\n",
    "veg_df = pd.read_json(r'vegetarian.json')\n",
    "\n",
    "vegan_df = vegan_df['recipe'].apply(pd.Series)\n",
    "veg_df = veg_df['recipe'].apply(pd.Series)\n",
    "meat_df = meat_df['recipe'].apply(pd.Series)\n",
    "df = pd.concat([vegan_df, veg_df, meat_df])"
   ]
  },
  {
   "cell_type": "code",
   "execution_count": 17,
   "metadata": {},
   "outputs": [
    {
     "data": {
      "text/html": [
       "<div>\n",
       "<style scoped>\n",
       "    .dataframe tbody tr th:only-of-type {\n",
       "        vertical-align: middle;\n",
       "    }\n",
       "\n",
       "    .dataframe tbody tr th {\n",
       "        vertical-align: top;\n",
       "    }\n",
       "\n",
       "    .dataframe thead th {\n",
       "        text-align: right;\n",
       "    }\n",
       "</style>\n",
       "<table border=\"1\" class=\"dataframe\">\n",
       "  <thead>\n",
       "    <tr style=\"text-align: right;\">\n",
       "      <th></th>\n",
       "      <th>id</th>\n",
       "      <th>kitchen-id</th>\n",
       "      <th>co2-value</th>\n",
       "      <th>eaternity-award</th>\n",
       "      <th>rating</th>\n",
       "      <th>titles</th>\n",
       "      <th>date</th>\n",
       "      <th>location</th>\n",
       "      <th>servings</th>\n",
       "      <th>recipe-portions</th>\n",
       "      <th>ingredients</th>\n",
       "      <th>food-unit</th>\n",
       "    </tr>\n",
       "  </thead>\n",
       "  <tbody>\n",
       "    <tr>\n",
       "      <th>0</th>\n",
       "      <td>0_vegan</td>\n",
       "      <td>our_name_id</td>\n",
       "      <td>423</td>\n",
       "      <td>True</td>\n",
       "      <td>A</td>\n",
       "      <td>[{'language': 'en', 'value': 'Pasta'}]</td>\n",
       "      <td>2020-09-19</td>\n",
       "      <td>Schweiz</td>\n",
       "      <td>1</td>\n",
       "      <td>1</td>\n",
       "      <td>[]</td>\n",
       "      <td>0.845367</td>\n",
       "    </tr>\n",
       "    <tr>\n",
       "      <th>1</th>\n",
       "      <td>1_vegan</td>\n",
       "      <td>our_name_id</td>\n",
       "      <td>550</td>\n",
       "      <td>True</td>\n",
       "      <td>A</td>\n",
       "      <td>[{'language': 'en', 'value': 'Vegi Sandwich'}]</td>\n",
       "      <td>2020-09-19</td>\n",
       "      <td>Schweiz</td>\n",
       "      <td>1</td>\n",
       "      <td>1</td>\n",
       "      <td>[]</td>\n",
       "      <td>0.996958</td>\n",
       "    </tr>\n",
       "    <tr>\n",
       "      <th>2</th>\n",
       "      <td>2_vegan</td>\n",
       "      <td>our_name_id</td>\n",
       "      <td>1084</td>\n",
       "      <td>False</td>\n",
       "      <td>B</td>\n",
       "      <td>[{'language': 'en', 'value': 'Tomato soup'}]</td>\n",
       "      <td>2020-09-19</td>\n",
       "      <td>Schweiz</td>\n",
       "      <td>1</td>\n",
       "      <td>1</td>\n",
       "      <td>[]</td>\n",
       "      <td>0.162327</td>\n",
       "    </tr>\n",
       "    <tr>\n",
       "      <th>3</th>\n",
       "      <td>3_vegan</td>\n",
       "      <td>our_name_id</td>\n",
       "      <td>517</td>\n",
       "      <td>True</td>\n",
       "      <td>A</td>\n",
       "      <td>[{'language': 'en', 'value': 'Lentil and cocon...</td>\n",
       "      <td>2020-09-19</td>\n",
       "      <td>Schweiz</td>\n",
       "      <td>1</td>\n",
       "      <td>1</td>\n",
       "      <td>[]</td>\n",
       "      <td>1.007703</td>\n",
       "    </tr>\n",
       "    <tr>\n",
       "      <th>4</th>\n",
       "      <td>4_vegan</td>\n",
       "      <td>our_name_id</td>\n",
       "      <td>608</td>\n",
       "      <td>True</td>\n",
       "      <td>A</td>\n",
       "      <td>[{'language': 'en', 'value': 'Peppers stuffed ...</td>\n",
       "      <td>2020-09-19</td>\n",
       "      <td>Schweiz</td>\n",
       "      <td>1</td>\n",
       "      <td>1</td>\n",
       "      <td>[]</td>\n",
       "      <td>0.436423</td>\n",
       "    </tr>\n",
       "  </tbody>\n",
       "</table>\n",
       "</div>"
      ],
      "text/plain": [
       "        id   kitchen-id  co2-value  eaternity-award rating  \\\n",
       "0  0_vegan  our_name_id        423             True      A   \n",
       "1  1_vegan  our_name_id        550             True      A   \n",
       "2  2_vegan  our_name_id       1084            False      B   \n",
       "3  3_vegan  our_name_id        517             True      A   \n",
       "4  4_vegan  our_name_id        608             True      A   \n",
       "\n",
       "                                              titles        date location  \\\n",
       "0             [{'language': 'en', 'value': 'Pasta'}]  2020-09-19  Schweiz   \n",
       "1     [{'language': 'en', 'value': 'Vegi Sandwich'}]  2020-09-19  Schweiz   \n",
       "2       [{'language': 'en', 'value': 'Tomato soup'}]  2020-09-19  Schweiz   \n",
       "3  [{'language': 'en', 'value': 'Lentil and cocon...  2020-09-19  Schweiz   \n",
       "4  [{'language': 'en', 'value': 'Peppers stuffed ...  2020-09-19  Schweiz   \n",
       "\n",
       "   servings  recipe-portions ingredients  food-unit  \n",
       "0         1                1          []   0.845367  \n",
       "1         1                1          []   0.996958  \n",
       "2         1                1          []   0.162327  \n",
       "3         1                1          []   1.007703  \n",
       "4         1                1          []   0.436423  "
      ]
     },
     "execution_count": 17,
     "metadata": {},
     "output_type": "execute_result"
    }
   ],
   "source": [
    "df.head()"
   ]
  },
  {
   "cell_type": "code",
   "execution_count": 19,
   "metadata": {},
   "outputs": [
    {
     "data": {
      "image/png": "[encoded data removed]",
      "text/plain": [
       "<Figure size 432x288 with 1 Axes>"
      ]
     },
     "metadata": {
      "needs_background": "light"
     },
     "output_type": "display_data"
    }
   ],
   "source": [
    "hist = df['co2-value'].plot.hist(bins=10)"
   ]
  },
  {
   "cell_type": "code",
   "execution_count": null,
   "metadata": {},
   "outputs": [],
   "source": []
  }
 ],
 "metadata": {
  "kernelspec": {
   "display_name": "Python 3",
   "language": "python",
   "name": "python3"
  },
  "language_info": {
   "codemirror_mode": {
    "name": "ipython",
    "version": 3
   },
   "file_extension": ".py",
   "mimetype": "text/x-python",
   "name": "python",
   "nbconvert_exporter": "python",
   "pygments_lexer": "ipython3",
   "version": "3.7.3"
  }
 },
 "nbformat": 4,
 "nbformat_minor": 2
}
